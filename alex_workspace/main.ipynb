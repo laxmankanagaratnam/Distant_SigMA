{
 "cells": [
  {
   "cell_type": "code",
   "execution_count": 25,
   "metadata": {},
   "source": [
    "import sys \n",
    "import os\n",
    "\n",
    "# Get the directory of the current script\n",
    "script_dir = os.path.dirname(os.path.abspath(__file__))\n",
    "\n",
    "# Define relative paths to your module directories\n",
    "relative_paths = [\n",
    "    os.path.join(script_dir, \"SigMA_Alex_modifications\"),\n",
    "    os.path.join(script_dir, \"SigMA_Alex_modifications\", \"alex_workspace\")\n",
    "]\n",
    "\n",
    "# Append the relative paths to sys.path\n",
    "for path in relative_paths:\n",
    "    if path not in sys.path:\n",
    "        sys.path.append(path)\n",
    "\n",
    "from ClusterHandler import ClusteringHandler\n",
    "from GraphCreator import GraphCreator\n",
    "from Tree import Custom_Tree\n",
    "from NxGraphAssistant import NxGraphAssistant\n",
    "from PlotHandler import PlotHandler\n",
    "\n",
    "clusterMaster = ClusteringHandler()\n",
    "orion_index = 0\n",
    "graph_base, tmp = GraphCreator().get_get_orion(orion_index)\n",
    "\n",
    "import time\n",
    "\n",
    "\n",
    "\n",
    "graph = NxGraphAssistant.remove_edges_with_minor(graph_base,'weight',0.3,0.8)\n",
    "graph = NxGraphAssistant.analyze_cliques(graph,0.8)\n",
    "\n",
    "\n",
    "graph2 = NxGraphAssistant.remove_edges(graph_base,similarity='weight',threshold=0.3)\n",
    "graph2 = NxGraphAssistant.analyze_cliques(graph2,0.7)\n",
    "\n",
    "\n",
    "\n",
    "\n",
    "# Measure time for the second code snippet\n",
    "start_time1 = time.time()\n",
    "T = clusterMaster.do_all(graph_base,Custom_Tree.alex_optimal)\n",
    "end_time1 = time.time()\n",
    "start_time2 = time.time()\n",
    "Z = clusterMaster.do_all(graph_base,Custom_Tree.alex_optimal_alternative)\n",
    "end_time2 = time.time()\n",
    "start_time3 = time.time()\n",
    "A = clusterMaster.do_all(graph_base,Custom_Tree.tree_size_problem_handler_create_multiple_trees_on_conflict)\n",
    "end_time3 = time.time()\n",
    "\n",
    "# Calculate the elapsed time for each code snippet\n",
    "elapsed_time1 = end_time1 - start_time1\n",
    "elapsed_time2 = end_time2 - start_time2\n",
    "elapsed_time3 = end_time3 - start_time3\n",
    "\n",
    "# Print the elapsed time for each code snippet\n",
    "print(\"Elapsed time for the first code snippet:\", elapsed_time1, \"seconds\")\n",
    "print(\"Elapsed time for the second code snippet:\", elapsed_time2, \"seconds\")\n",
    "print(\"Elapsed time for the third code snippet:\", elapsed_time3, \"seconds\")\n",
    "\n",
    "\n",
    "\n",
    "\n",
    "    \n"
   ],
   "outputs": []
  },
  {
   "cell_type": "code",
   "execution_count": 26,
   "metadata": {},
   "source": [
    "clusterMaster.print(T)\n",
    "clusterMaster.print(Z)\n",
    "clusterMaster.print(A)"
   ],
   "outputs": []
  },
  {
   "cell_type": "code",
   "execution_count": 27,
   "metadata": {},
   "source": [
    "plotter = PlotHandler(tmp,orion_index)\n",
    "list_of_trees = [T]\n",
    "for tree in list_of_trees:\n",
    "    labels = plotter.print_trees_leaf_low_majority(tree)\n",
    "    print(labels)\n",
    "    plotter.plot_labels_3D(labels)\n",
    "    plotter.plot_labels_2D(labels)\n",
    "    \n"
   ],
   "outputs": []
  },
  {
   "cell_type": "code",
   "execution_count": 28,
   "metadata": {},
   "source": [
    "plotter = PlotHandler(tmp,orion_index)\n",
    "list1 = [1,2,3]\n",
    "list2 = [2,4,6]\n",
    "plotter.plot_labels_2D(plotter.compare_two_clusters_marke_shared(list1,list2))"
   ],
   "outputs": []
  },
  {
   "cell_type": "code",
   "execution_count": 29,
   "metadata": {},
   "source": [
    "#plotter = PlotHandler(tmp,orion_index)\n",
    "#plotter.plot_tree(T)\n",
    "for tree in T:\n",
    "    tree.merge()\n",
    "    tree.print_tree()"
   ],
   "outputs": []
  },
  {
   "cell_type": "code",
   "execution_count": 30,
   "metadata": {},
   "source": [
    "clusterMaster.print(T)"
   ],
   "outputs": []
  }
 ],
 "metadata": {
  "kernelspec": {
   "display_name": "Python 3",
   "language": "python",
   "name": "python3"
  },
  "language_info": {
   "codemirror_mode": {
    "name": "ipython",
    "version": 3
   },
   "file_extension": ".py",
   "mimetype": "text/x-python",
   "name": "python",
   "nbconvert_exporter": "python",
   "pygments_lexer": "ipython3",
   "version": "3.12.2"
  }
 },
 "nbformat": 4,
 "nbformat_minor": 2
}
