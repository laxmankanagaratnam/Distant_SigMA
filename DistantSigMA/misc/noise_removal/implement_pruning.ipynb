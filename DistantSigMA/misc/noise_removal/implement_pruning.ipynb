{
 "cells": [
  {
   "cell_type": "markdown",
   "source": [
    "## 1. Try with using extract Signal after clustering"
   ],
   "metadata": {
    "collapsed": false
   }
  },
  {
   "cell_type": "code",
   "execution_count": 20,
   "outputs": [],
   "source": [
    "import os\n",
    "import pandas as pd\n",
    "import numpy as np\n",
    "from sklearn.metrics import normalized_mutual_info_score as nmi\n",
    "\n",
    "from SigMA.SigMA import SigMA\n",
    "from helpers import encode_labels_by_frequency, align_ref_to_sigma\n",
    "\n",
    "import DistantSigMA.misc.utilities as ut\n",
    "\n",
    "from NoiseRemoval.RemoveNoiseTransformed import remove_noise_simple\n",
    "from scipy.sparse.csgraph import connected_components\n"
   ],
   "metadata": {
    "collapsed": false,
    "ExecuteTime": {
     "end_time": "2025-07-30T09:21:40.585160Z",
     "start_time": "2025-07-30T09:21:40.551825Z"
    }
   }
  },
  {
   "cell_type": "code",
   "execution_count": 21,
   "outputs": [],
   "source": [
    "def extract_signal(clusterer):\n",
    "    labels = clusterer.labels_\n",
    "    labels_with_noise = -np.ones(clusterer.X.shape[0], dtype=int)\n",
    "    data_idx = np.arange(labels_with_noise.shape[0])\n",
    "    for i, u_cl in enumerate(np.unique(labels[labels>-1])):\n",
    "        cluster_bool_array = remove_noise_simple(labels==u_cl, te_obj=clusterer)\n",
    "        if cluster_bool_array is not None:\n",
    "            labels_with_noise[cluster_bool_array] = i\n",
    "            continue\n",
    "        else:\n",
    "            rho = clusterer.weights_[labels == u_cl]\n",
    "            mad = np.median(np.abs(rho - np.median(rho)))\n",
    "            threshold = np.median(rho)*0.99 + 3 * mad * 1.1\n",
    "            # Statistisch fundierterer cut\n",
    "            # threshold = np.median(rho) + 3 * mad\n",
    "            cluster_bool_array = rho > threshold\n",
    "        # Remove noise\n",
    "        idx_cluster = data_idx[labels==u_cl][cluster_bool_array]\n",
    "        if len(idx_cluster) > 20:\n",
    "            # labels_with_noise[idx_cluster] = i\n",
    "            # Only graph connected points allowed\n",
    "            _, cc_idx = connected_components(clusterer.A[idx_cluster, :][:, idx_cluster])\n",
    "            # Combine CCs data points with originally defined dense core (to not miss out on potentially dropped points)\n",
    "            cluster_indices = data_idx[idx_cluster][cc_idx == np.argmax(np.bincount(cc_idx))]\n",
    "            labels_with_noise[np.isin(data_idx, cluster_indices)] = i\n",
    "\n",
    "    return labels_with_noise"
   ],
   "metadata": {
    "collapsed": false,
    "ExecuteTime": {
     "end_time": "2025-07-30T09:21:40.591571Z",
     "start_time": "2025-07-30T09:21:40.554654Z"
    }
   }
  },
  {
   "cell_type": "code",
   "execution_count": 22,
   "outputs": [],
   "source": [
    "# Paths\n",
    "output_path = ut.set_output_path(script_name=\"DeNoise\")\n",
    "\n",
    "run = \"DeNoise_pruning\"\n",
    "output_path = output_path + f\"{run}/\"\n",
    "if not os.path.exists(output_path):\n",
    "    os.makedirs(output_path)"
   ],
   "metadata": {
    "collapsed": false,
    "ExecuteTime": {
     "end_time": "2025-07-30T09:21:40.591779Z",
     "start_time": "2025-07-30T09:21:40.559270Z"
    }
   }
  },
  {
   "cell_type": "markdown",
   "source": [],
   "metadata": {
    "collapsed": false
   }
  },
  {
   "cell_type": "code",
   "execution_count": 23,
   "outputs": [
    {
     "name": "stdout",
     "output_type": "stream",
     "text": [
      "Performing gradient ascend using a 15-NN density estimation.\n",
      "Updated significance threshold: 1.00e-05\n"
     ]
    }
   ],
   "source": [
    "# ---------------------------------------------------------\n",
    "# Load data\n",
    "mock_df = pd.read_csv(\"/Users/alena/PycharmProjects/Distant_SigMA/Data/Mock/Box_0_with_all_clustering_results.csv\")\n",
    "\n",
    "\n",
    "data = mock_df.loc[mock_df['parallax']>0]\n",
    "data = data.loc[data['parallax']/data['parallax_error']>4.5].reset_index(drop=True)\n",
    "\n",
    "# ---------------------------------------------------------\n",
    "# Clustering in XYZ and tangential velocity space\n",
    "pm_axes = ['pmra', 'pmdec']\n",
    "# v_tan_axes = ['v_a_lsr', 'v_d_lsr']  # tangential velocity in LSR\n",
    "\n",
    "# Clustering in XYZ and UVW space\n",
    "xyz_axes = ['ra', 'dec', 'parallax']\n",
    "# uvw_axes = ['U', 'V', 'W']\n",
    "\n",
    "\n",
    "cluster_features = xyz_axes + pm_axes\n",
    "scale_factors = {'vel': {'features': ['parallax'], 'factor': 0.2}}\n",
    "\n",
    "sigma_kwargs = dict(\n",
    "    cluster_features=cluster_features,\n",
    "    scale_factors=scale_factors,\n",
    "    # These are the default values and should be kept for now\n",
    "    nb_resampling=0, max_knn_density=101,\n",
    "    beta=0.99, knn_initcluster_graph=45,\n",
    "    do_remove_edges=True\n",
    ")\n",
    "\n",
    "clusterer = SigMA(data=data, **sigma_kwargs).fit(alpha=0.05, knn=15, bh_correction=True)"
   ],
   "metadata": {
    "collapsed": false,
    "ExecuteTime": {
     "end_time": "2025-07-30T09:21:45.003336Z",
     "start_time": "2025-07-30T09:21:40.563044Z"
    }
   }
  },
  {
   "cell_type": "code",
   "execution_count": 24,
   "outputs": [],
   "source": [
    "labels_with_noise = extract_signal(clusterer)"
   ],
   "metadata": {
    "collapsed": false,
    "ExecuteTime": {
     "end_time": "2025-07-30T09:21:45.417679Z",
     "start_time": "2025-07-30T09:21:45.003077Z"
    }
   }
  },
  {
   "cell_type": "code",
   "execution_count": 25,
   "outputs": [
    {
     "data": {
      "text/plain": "np.float64(0.12155749479256885)"
     },
     "execution_count": 25,
     "metadata": {},
     "output_type": "execute_result"
    }
   ],
   "source": [
    "nmi(data.labels, labels_with_noise)"
   ],
   "metadata": {
    "collapsed": false,
    "ExecuteTime": {
     "end_time": "2025-07-30T09:21:45.424910Z",
     "start_time": "2025-07-30T09:21:45.418499Z"
    }
   }
  },
  {
   "cell_type": "code",
   "execution_count": 26,
   "outputs": [
    {
     "data": {
      "text/plain": "array([-1, 14, 21])"
     },
     "execution_count": 26,
     "metadata": {},
     "output_type": "execute_result"
    }
   ],
   "source": [
    "np.unique(labels_with_noise)\n"
   ],
   "metadata": {
    "collapsed": false,
    "ExecuteTime": {
     "end_time": "2025-07-30T09:21:45.428049Z",
     "start_time": "2025-07-30T09:21:45.425491Z"
    }
   }
  },
  {
   "cell_type": "markdown",
   "source": [
    "### -> Only 3 clusters remain!"
   ],
   "metadata": {
    "collapsed": false
   }
  },
  {
   "cell_type": "markdown",
   "source": [
    "# 2. Try to use connected components on noisy solution"
   ],
   "metadata": {
    "collapsed": false
   }
  },
  {
   "cell_type": "code",
   "execution_count": 27,
   "outputs": [],
   "source": [
    "from scipy.sparse.csgraph import connected_components\n",
    "from scipy.sparse import csr_matrix\n",
    "from helpers import encode_labels_by_frequency, align_ref_to_sigma, noisy_solution, analyze_solution"
   ],
   "metadata": {
    "collapsed": false,
    "ExecuteTime": {
     "end_time": "2025-07-30T09:21:45.431421Z",
     "start_time": "2025-07-30T09:21:45.429660Z"
    }
   }
  },
  {
   "cell_type": "code",
   "execution_count": 28,
   "outputs": [
    {
     "name": "stdout",
     "output_type": "stream",
     "text": [
      "NMI:  0.9612101676584978\n",
      "(57622, 36) (57622, 3)\n",
      "NMI:  0.9612101676584976\n",
      "NMI:  0.9612101676584976\n"
     ]
    }
   ],
   "source": [
    "print(\"NMI: \", nmi(data.labels, clusterer.labels_))\n",
    "\n",
    "rho = clusterer.weights_\n",
    "\n",
    "label_rho_df = pd.DataFrame(data=np.stack([clusterer.labels_, rho, data.labels.to_numpy()], axis=1), columns=[\"labels_SigMA\", \"density\", \"reference\"])\n",
    "label_rho_df.labels_SigMA = label_rho_df.labels_SigMA.astype(int)\n",
    "\n",
    "big_df = pd.concat([data, label_rho_df], axis=1)\n",
    "\n",
    "print(big_df.shape, label_rho_df.shape)\n",
    "\n",
    "big_df[\"real_ref\"] = encode_labels_by_frequency(big_df.reference)\n",
    "print(\"NMI: \", nmi(big_df.real_ref, big_df.labels_SigMA))\n",
    "big_df_aligned = align_ref_to_sigma(input_data=big_df,ref_label=\"real_ref\", label2match=\"labels_SigMA\", new_col_name=\"labels_SigMA_aligned\")\n",
    "print(\"NMI: \", nmi(big_df_aligned.real_ref, big_df_aligned.labels_SigMA))\n",
    "\n",
    "big_df_aligned.loc[:, \"scaled_parallax\"] = big_df_aligned[\"parallax\"] * 0.2"
   ],
   "metadata": {
    "collapsed": false,
    "ExecuteTime": {
     "end_time": "2025-07-30T09:21:45.470147Z",
     "start_time": "2025-07-30T09:21:45.432623Z"
    }
   }
  },
  {
   "cell_type": "code",
   "execution_count": 29,
   "outputs": [
    {
     "data": {
      "text/plain": "RangeIndex(start=0, stop=57622, step=1)"
     },
     "execution_count": 29,
     "metadata": {},
     "output_type": "execute_result"
    }
   ],
   "source": [
    "big_df_aligned.index"
   ],
   "metadata": {
    "collapsed": false,
    "ExecuteTime": {
     "end_time": "2025-07-30T09:21:45.473178Z",
     "start_time": "2025-07-30T09:21:45.470359Z"
    }
   }
  },
  {
   "cell_type": "code",
   "execution_count": 30,
   "outputs": [],
   "source": [
    "data = noisy_solution(p=0.5,\n",
    "                      input_data=big_df_aligned,\n",
    "                      reference_labels=\"real_ref\",\n",
    "                      clustered_labels=\"labels_SigMA_aligned\",\n",
    "                      new_label_col=\"SigMA_noisy\")\n",
    "\n",
    "\n",
    "data.sort_values(by=\"SigMA_noisy\", inplace=True)"
   ],
   "metadata": {
    "collapsed": false,
    "ExecuteTime": {
     "end_time": "2025-07-30T09:21:45.506389Z",
     "start_time": "2025-07-30T09:21:45.473916Z"
    }
   }
  },
  {
   "cell_type": "code",
   "execution_count": 41,
   "outputs": [],
   "source": [
    "from scipy.sparse.csgraph import connected_components\n",
    "from scipy.sparse import csr_matrix\n",
    "import numpy as np\n",
    "\n",
    "def prune_connected_components(\n",
    "    df_in,\n",
    "    label_col,\n",
    "    unique_labels,\n",
    "    adjacency_matrix,\n",
    "    max_components_to_keep=1\n",
    "):\n",
    "    df = df_in.copy()\n",
    "    df[\"SigMA_noisy_pruned\"] = df[label_col]  # initialize once\n",
    "\n",
    "    for lbl in unique_labels:\n",
    "        cluster = df[df[label_col] == lbl]\n",
    "        indices = cluster.index.to_list()\n",
    "\n",
    "        A_sub = adjacency_matrix[np.ix_(indices, indices)]\n",
    "        graph_sub = csr_matrix(A_sub)\n",
    "        n_components, c_lab = connected_components(graph_sub, directed=False, return_labels=True)\n",
    "\n",
    "        if n_components == 0:\n",
    "            continue\n",
    "\n",
    "        component_labels = np.array(c_lab)\n",
    "        unique_components, counts = np.unique(component_labels, return_counts=True)\n",
    "\n",
    "        # Filter out components of size 1\n",
    "        large_components = [(comp, count) for comp, count in zip(unique_components, counts) if count > 1]\n",
    "\n",
    "        # If no large components, skip\n",
    "        if len(large_components) == 0:\n",
    "            mask_to_update = (df[label_col] == lbl)\n",
    "            df.loc[mask_to_update, \"SigMA_noisy_pruned\"] = -1\n",
    "            print(f\"Label {lbl} — all components too small (size 1), everything pruned.\")\n",
    "            continue\n",
    "\n",
    "        # Sort by size descending\n",
    "        large_components.sort(key=lambda x: x[1], reverse=True)\n",
    "\n",
    "        # Keep up to N largest\n",
    "        top_components = [comp for comp, _ in large_components[:max_components_to_keep]]\n",
    "\n",
    "        # Collect indices to keep\n",
    "        indices_to_keep = set()\n",
    "        for comp_id in top_components:\n",
    "            print(type(np.where(component_labels == comp_id)))\n",
    "            member_positions = np.where(component_labels == comp_id)[0]\n",
    "            indices_to_keep.update(indices[i] for i in member_positions)\n",
    "\n",
    "        # Prune all others\n",
    "        mask_to_update = (df[label_col] == lbl) & (~df.index.isin(indices_to_keep))\n",
    "        df.loc[mask_to_update, \"SigMA_noisy_pruned\"] = -1\n",
    "\n",
    "        print(f\"Label {lbl} — Original: {len(indices)}, Kept: {len(indices_to_keep)}, Pruned: {np.sum(mask_to_update)}\")\n",
    "\n",
    "    return df\n",
    "\n"
   ],
   "metadata": {
    "collapsed": false,
    "ExecuteTime": {
     "end_time": "2025-07-30T09:22:33.361039Z",
     "start_time": "2025-07-30T09:22:33.356490Z"
    }
   }
  },
  {
   "cell_type": "code",
   "execution_count": 42,
   "outputs": [
    {
     "name": "stdout",
     "output_type": "stream",
     "text": [
      "<class 'tuple'>\n",
      "Label -1 — Original: 17642, Kept: 17641, Pruned: 1\n",
      "<class 'tuple'>\n",
      "Label 0 — Original: 2354, Kept: 1747, Pruned: 607\n",
      "<class 'tuple'>\n",
      "Label 1 — Original: 2018, Kept: 1427, Pruned: 591\n",
      "<class 'tuple'>\n",
      "Label 2 — Original: 1840, Kept: 1214, Pruned: 626\n",
      "<class 'tuple'>\n",
      "Label 3 — Original: 1831, Kept: 1249, Pruned: 582\n",
      "<class 'tuple'>\n",
      "Label 4 — Original: 1861, Kept: 1268, Pruned: 593\n",
      "<class 'tuple'>\n",
      "Label 5 — Original: 1775, Kept: 1195, Pruned: 580\n",
      "<class 'tuple'>\n",
      "Label 6 — Original: 1655, Kept: 1104, Pruned: 551\n",
      "<class 'tuple'>\n",
      "Label 7 — Original: 1633, Kept: 1058, Pruned: 575\n",
      "<class 'tuple'>\n",
      "Label 8 — Original: 1530, Kept: 915, Pruned: 615\n",
      "<class 'tuple'>\n",
      "Label 9 — Original: 1516, Kept: 916, Pruned: 600\n",
      "<class 'tuple'>\n",
      "Label 10 — Original: 1556, Kept: 959, Pruned: 597\n",
      "<class 'tuple'>\n",
      "Label 11 — Original: 1397, Kept: 831, Pruned: 566\n",
      "<class 'tuple'>\n",
      "Label 12 — Original: 1391, Kept: 793, Pruned: 598\n",
      "<class 'tuple'>\n",
      "Label 13 — Original: 1396, Kept: 796, Pruned: 600\n",
      "<class 'tuple'>\n",
      "Label 14 — Original: 1428, Kept: 777, Pruned: 651\n",
      "<class 'tuple'>\n",
      "Label 15 — Original: 1368, Kept: 763, Pruned: 605\n",
      "<class 'tuple'>\n",
      "Label 16 — Original: 1273, Kept: 660, Pruned: 613\n",
      "<class 'tuple'>\n",
      "Label 17 — Original: 1315, Kept: 676, Pruned: 639\n",
      "<class 'tuple'>\n",
      "Label 18 — Original: 1205, Kept: 621, Pruned: 584\n",
      "<class 'tuple'>\n",
      "Label 19 — Original: 1219, Kept: 613, Pruned: 606\n",
      "<class 'tuple'>\n",
      "Label 20 — Original: 1134, Kept: 519, Pruned: 615\n",
      "<class 'tuple'>\n",
      "Label 21 — Original: 1074, Kept: 464, Pruned: 610\n",
      "<class 'tuple'>\n",
      "Label 22 — Original: 1065, Kept: 453, Pruned: 612\n",
      "<class 'tuple'>\n",
      "Label 23 — Original: 979, Kept: 376, Pruned: 603\n",
      "<class 'tuple'>\n",
      "Label 24 — Original: 915, Kept: 326, Pruned: 589\n",
      "<class 'tuple'>\n",
      "Label 25 — Original: 830, Kept: 231, Pruned: 599\n",
      "<class 'tuple'>\n",
      "Label 26 — Original: 850, Kept: 220, Pruned: 630\n",
      "<class 'tuple'>\n",
      "Label 27 — Original: 787, Kept: 201, Pruned: 586\n",
      "<class 'tuple'>\n",
      "Label 29 — Original: 785, Kept: 194, Pruned: 591\n"
     ]
    }
   ],
   "source": [
    "unique_labels = data.SigMA_noisy.unique()\n",
    "\n",
    "df_pruned = prune_connected_components(df_in=data, label_col=\"SigMA_noisy\", unique_labels=unique_labels, adjacency_matrix=clusterer.A,\n",
    "max_components_to_keep=1,\n",
    ")"
   ],
   "metadata": {
    "collapsed": false,
    "ExecuteTime": {
     "end_time": "2025-07-30T09:22:33.614131Z",
     "start_time": "2025-07-30T09:22:33.532724Z"
    }
   }
  },
  {
   "cell_type": "code",
   "execution_count": 33,
   "outputs": [
    {
     "name": "stderr",
     "output_type": "stream",
     "text": [
      "/opt/miniconda3/envs/SigMA_venv/lib/python3.12/site-packages/sklearn/metrics/_classification.py:1565: UndefinedMetricWarning:\n",
      "\n",
      "Precision is ill-defined and being set to 0.0 in labels with no predicted samples. Use `zero_division` parameter to control this behavior.\n",
      "\n",
      "/opt/miniconda3/envs/SigMA_venv/lib/python3.12/site-packages/sklearn/metrics/_classification.py:1565: UndefinedMetricWarning:\n",
      "\n",
      "Precision is ill-defined and being set to 0.0 in labels with no predicted samples. Use `zero_division` parameter to control this behavior.\n",
      "\n",
      "/opt/miniconda3/envs/SigMA_venv/lib/python3.12/site-packages/sklearn/metrics/_classification.py:1565: UndefinedMetricWarning:\n",
      "\n",
      "Precision is ill-defined and being set to 0.0 in labels with no predicted samples. Use `zero_division` parameter to control this behavior.\n",
      "\n"
     ]
    },
    {
     "data": {
      "text/plain": "<Figure size 1200x1000 with 2 Axes>",
      "image/png": "[encoded data removed]"
     },
     "metadata": {},
     "output_type": "display_data"
    }
   ],
   "source": [
    "rep,fig = analyze_solution(df_pruned, \"real_ref\", \"SigMA_noisy_pruned\")"
   ],
   "metadata": {
    "collapsed": false,
    "ExecuteTime": {
     "end_time": "2025-07-30T09:21:45.868055Z",
     "start_time": "2025-07-30T09:21:45.593199Z"
    }
   }
  },
  {
   "cell_type": "code",
   "execution_count": 34,
   "outputs": [
    {
     "data": {
      "text/plain": "              precision    recall  f1-score       support\n-1             0.993724  0.996539  0.995129  34957.000000\n0              0.980538  0.996510  0.988459   1719.000000\n1              0.948844  0.970609  0.959603   1395.000000\n2              0.955519  0.904131  0.929115   1283.000000\n3              0.986389  0.974684  0.980501   1264.000000\n4              0.981861  0.993615  0.987703   1253.000000\n5              0.998326  0.998326  0.998326   1195.000000\n6              0.977355  0.975588  0.976471   1106.000000\n7              0.943289  0.972710  0.957774   1026.000000\n8              0.995628  0.979570  0.987534    930.000000\n9              0.978166  0.969697  0.973913    924.000000\n10             0.948905  0.984848  0.966543    924.000000\n11             0.979543  0.983092  0.981314    828.000000\n12             0.991173  0.982500  0.986817    800.000000\n13             0.977387  0.986058  0.981703    789.000000\n14             0.996139  1.000000  0.998066    774.000000\n15             0.961992  0.972185  0.967062    755.000000\n16             0.980303  0.980303  0.980303    660.000000\n17             0.940828  0.984520  0.962179    646.000000\n18             0.972625  0.967949  0.970281    624.000000\n19             0.983687  0.993410  0.988525    607.000000\n20             0.957611  0.952107  0.954851    522.000000\n21             0.995690  0.997840  0.996764    463.000000\n22             0.975717  0.984410  0.980044    449.000000\n23             0.984043  0.978836  0.981432    378.000000\n24             0.953988  0.977987  0.965839    318.000000\n25             0.939394  0.947598  0.943478    229.000000\n26             0.931818  0.953488  0.942529    215.000000\n27             0.960199  0.969849  0.965000    199.000000\n28             0.000000  0.000000  0.000000    197.000000\n29             0.938144  0.943005  0.940568    193.000000\naccuracy       0.985422  0.985422  0.985422      0.985422\nmacro avg      0.938994  0.944257  0.941543  57622.000000\nweighted avg   0.982113  0.985422  0.983725  57622.000000",
      "text/html": "<div>\n<style scoped>\n    .dataframe tbody tr th:only-of-type {\n        vertical-align: middle;\n    }\n\n    .dataframe tbody tr th {\n        vertical-align: top;\n    }\n\n    .dataframe thead th {\n        text-align: right;\n    }\n</style>\n<table border=\"1\" class=\"dataframe\">\n  <thead>\n    <tr style=\"text-align: right;\">\n      <th></th>\n      <th>precision</th>\n      <th>recall</th>\n      <th>f1-score</th>\n      <th>support</th>\n    </tr>\n  </thead>\n  <tbody>\n    <tr>\n      <th>-1</th>\n      <td>0.993724</td>\n      <td>0.996539</td>\n      <td>0.995129</td>\n      <td>34957.000000</td>\n    </tr>\n    <tr>\n      <th>0</th>\n      <td>0.980538</td>\n      <td>0.996510</td>\n      <td>0.988459</td>\n      <td>1719.000000</td>\n    </tr>\n    <tr>\n      <th>1</th>\n      <td>0.948844</td>\n      <td>0.970609</td>\n      <td>0.959603</td>\n      <td>1395.000000</td>\n    </tr>\n    <tr>\n      <th>2</th>\n      <td>0.955519</td>\n      <td>0.904131</td>\n      <td>0.929115</td>\n      <td>1283.000000</td>\n    </tr>\n    <tr>\n      <th>3</th>\n      <td>0.986389</td>\n      <td>0.974684</td>\n      <td>0.980501</td>\n      <td>1264.000000</td>\n    </tr>\n    <tr>\n      <th>4</th>\n      <td>0.981861</td>\n      <td>0.993615</td>\n      <td>0.987703</td>\n      <td>1253.000000</td>\n    </tr>\n    <tr>\n      <th>5</th>\n      <td>0.998326</td>\n      <td>0.998326</td>\n      <td>0.998326</td>\n      <td>1195.000000</td>\n    </tr>\n    <tr>\n      <th>6</th>\n      <td>0.977355</td>\n      <td>0.975588</td>\n      <td>0.976471</td>\n      <td>1106.000000</td>\n    </tr>\n    <tr>\n      <th>7</th>\n      <td>0.943289</td>\n      <td>0.972710</td>\n      <td>0.957774</td>\n      <td>1026.000000</td>\n    </tr>\n    <tr>\n      <th>8</th>\n      <td>0.995628</td>\n      <td>0.979570</td>\n      <td>0.987534</td>\n      <td>930.000000</td>\n    </tr>\n    <tr>\n      <th>9</th>\n      <td>0.978166</td>\n      <td>0.969697</td>\n      <td>0.973913</td>\n      <td>924.000000</td>\n    </tr>\n    <tr>\n      <th>10</th>\n      <td>0.948905</td>\n      <td>0.984848</td>\n      <td>0.966543</td>\n      <td>924.000000</td>\n    </tr>\n    <tr>\n      <th>11</th>\n      <td>0.979543</td>\n      <td>0.983092</td>\n      <td>0.981314</td>\n      <td>828.000000</td>\n    </tr>\n    <tr>\n      <th>12</th>\n      <td>0.991173</td>\n      <td>0.982500</td>\n      <td>0.986817</td>\n      <td>800.000000</td>\n    </tr>\n    <tr>\n      <th>13</th>\n      <td>0.977387</td>\n      <td>0.986058</td>\n      <td>0.981703</td>\n      <td>789.000000</td>\n    </tr>\n    <tr>\n      <th>14</th>\n      <td>0.996139</td>\n      <td>1.000000</td>\n      <td>0.998066</td>\n      <td>774.000000</td>\n    </tr>\n    <tr>\n      <th>15</th>\n      <td>0.961992</td>\n      <td>0.972185</td>\n      <td>0.967062</td>\n      <td>755.000000</td>\n    </tr>\n    <tr>\n      <th>16</th>\n      <td>0.980303</td>\n      <td>0.980303</td>\n      <td>0.980303</td>\n      <td>660.000000</td>\n    </tr>\n    <tr>\n      <th>17</th>\n      <td>0.940828</td>\n      <td>0.984520</td>\n      <td>0.962179</td>\n      <td>646.000000</td>\n    </tr>\n    <tr>\n      <th>18</th>\n      <td>0.972625</td>\n      <td>0.967949</td>\n      <td>0.970281</td>\n      <td>624.000000</td>\n    </tr>\n    <tr>\n      <th>19</th>\n      <td>0.983687</td>\n      <td>0.993410</td>\n      <td>0.988525</td>\n      <td>607.000000</td>\n    </tr>\n    <tr>\n      <th>20</th>\n      <td>0.957611</td>\n      <td>0.952107</td>\n      <td>0.954851</td>\n      <td>522.000000</td>\n    </tr>\n    <tr>\n      <th>21</th>\n      <td>0.995690</td>\n      <td>0.997840</td>\n      <td>0.996764</td>\n      <td>463.000000</td>\n    </tr>\n    <tr>\n      <th>22</th>\n      <td>0.975717</td>\n      <td>0.984410</td>\n      <td>0.980044</td>\n      <td>449.000000</td>\n    </tr>\n    <tr>\n      <th>23</th>\n      <td>0.984043</td>\n      <td>0.978836</td>\n      <td>0.981432</td>\n      <td>378.000000</td>\n    </tr>\n    <tr>\n      <th>24</th>\n      <td>0.953988</td>\n      <td>0.977987</td>\n      <td>0.965839</td>\n      <td>318.000000</td>\n    </tr>\n    <tr>\n      <th>25</th>\n      <td>0.939394</td>\n      <td>0.947598</td>\n      <td>0.943478</td>\n      <td>229.000000</td>\n    </tr>\n    <tr>\n      <th>26</th>\n      <td>0.931818</td>\n      <td>0.953488</td>\n      <td>0.942529</td>\n      <td>215.000000</td>\n    </tr>\n    <tr>\n      <th>27</th>\n      <td>0.960199</td>\n      <td>0.969849</td>\n      <td>0.965000</td>\n      <td>199.000000</td>\n    </tr>\n    <tr>\n      <th>28</th>\n      <td>0.000000</td>\n      <td>0.000000</td>\n      <td>0.000000</td>\n      <td>197.000000</td>\n    </tr>\n    <tr>\n      <th>29</th>\n      <td>0.938144</td>\n      <td>0.943005</td>\n      <td>0.940568</td>\n      <td>193.000000</td>\n    </tr>\n    <tr>\n      <th>accuracy</th>\n      <td>0.985422</td>\n      <td>0.985422</td>\n      <td>0.985422</td>\n      <td>0.985422</td>\n    </tr>\n    <tr>\n      <th>macro avg</th>\n      <td>0.938994</td>\n      <td>0.944257</td>\n      <td>0.941543</td>\n      <td>57622.000000</td>\n    </tr>\n    <tr>\n      <th>weighted avg</th>\n      <td>0.982113</td>\n      <td>0.985422</td>\n      <td>0.983725</td>\n      <td>57622.000000</td>\n    </tr>\n  </tbody>\n</table>\n</div>"
     },
     "execution_count": 34,
     "metadata": {},
     "output_type": "execute_result"
    }
   ],
   "source": [
    "rep"
   ],
   "metadata": {
    "collapsed": false,
    "ExecuteTime": {
     "end_time": "2025-07-30T09:21:45.872960Z",
     "start_time": "2025-07-30T09:21:45.870901Z"
    }
   }
  },
  {
   "cell_type": "code",
   "execution_count": 35,
   "outputs": [
    {
     "data": {
      "text/plain": "scipy.sparse._csr.csr_matrix"
     },
     "execution_count": 35,
     "metadata": {},
     "output_type": "execute_result"
    }
   ],
   "source": [
    "type(clusterer.A)\n"
   ],
   "metadata": {
    "collapsed": false,
    "ExecuteTime": {
     "end_time": "2025-07-30T09:21:45.875505Z",
     "start_time": "2025-07-30T09:21:45.873414Z"
    }
   }
  },
  {
   "cell_type": "raw",
   "source": [
    "label = 1\n",
    "cluster = data[data.SigMA_noisy == label]\n",
    "\n",
    "indices = cluster.index.to_list()\n",
    "\n",
    "#print(indices)\n",
    "print(len(indices))\n",
    "A_sub = clusterer.A[np.ix_(indices, indices)]\n",
    "\n",
    "graph_sub = csr_matrix(A_sub)\n",
    "\n",
    "n_components, c_lab = connected_components(graph_sub, directed=False, return_labels=True)\n",
    "\n",
    "print(f\"Number of connected components in subset: {n_components}\")\n",
    "print(f\"Component labels for subset points: {c_lab}\")\n",
    "\n",
    "component_labels = np.array(c_lab)  # assuming this is the returned array\n",
    "unique, counts = np.unique(component_labels, return_counts=True)\n",
    "\n",
    "for comp_id, size in zip(unique, counts):\n",
    "    print(f\"Component {comp_id}: {size} nodes\")\n",
    "\n",
    "largest_component = unique[np.argmax(counts)]\n",
    "indices_in_largest = np.where(component_labels == largest_component)[0]\n",
    "\n",
    "len(big_df_aligned[big_df_aligned.real_ref == 1])\n",
    "len(cluster[cluster.SigMA_noisy == 1])\n",
    "# Create a copy or work on data directly\n",
    "cluster_pruned = cluster.copy()\n",
    "\n",
    "len(cluster_pruned[cluster_pruned.SigMA_noisy == 1])\n",
    "\n",
    "# Convert from relative positions to true index values\n",
    "kept_indices = [indices[i] for i in indices_in_largest]\n",
    "\n",
    "# Mask to drop everything except the largest component\n",
    "mask_to_update = (data.SigMA_noisy == 1) & (~data.index.isin(kept_indices))\n",
    "\n",
    "# Apply pruning\n",
    "data.loc[:, \"SigMA_noisy_pruned\"] = data[\"SigMA_noisy\"]\n",
    "data.loc[mask_to_update, 'SigMA_noisy_pruned'] = -1\n",
    "\n",
    "len(data[data.SigMA_noisy_pruned == 1])"
   ],
   "metadata": {
    "collapsed": false
   }
  },
  {
   "cell_type": "raw",
   "source": [
    "# Create a copy or work on data directly\n",
    "cluster_pruned = cluster.copy()\n",
    "\n",
    "len(cluster_pruned[cluster_pruned.SigMA_noisy == 1])\n"
   ],
   "metadata": {
    "collapsed": false
   }
  },
  {
   "cell_type": "code",
   "execution_count": 36,
   "outputs": [],
   "source": [
    "from noise_removal_visualization import analyze_cluster"
   ],
   "metadata": {
    "collapsed": false,
    "ExecuteTime": {
     "end_time": "2025-07-30T09:21:45.877475Z",
     "start_time": "2025-07-30T09:21:45.876046Z"
    }
   }
  },
  {
   "cell_type": "code",
   "execution_count": 37,
   "outputs": [],
   "source": [
    "df = df_pruned.copy()"
   ],
   "metadata": {
    "collapsed": false,
    "ExecuteTime": {
     "end_time": "2025-07-30T09:21:45.881452Z",
     "start_time": "2025-07-30T09:21:45.878003Z"
    }
   }
  },
  {
   "cell_type": "code",
   "execution_count": 38,
   "outputs": [],
   "source": [
    "# label_list = [\"real_ref\", \"labels_SigMA\", \"labels_SigMA_noisy\", \"nstar_labels\", \"v_disp_labels\", \"MCD_labels\"]\n",
    "label_list = [\"real_ref\", \"SigMA_noisy\", \"SigMA_noisy_pruned\"]\n",
    "\n",
    "df[\"abs_G\"] = df[\"phot_g_mean_mag\"] + 5 * np.log10(df[\"parallax\"]) - 10\n",
    "df[\"bprp\"] = df[\"phot_bp_mean_mag\"] - df[\"phot_rp_mean_mag\"]\n",
    "\n",
    "f = analyze_cluster(cluster_id=1,\n",
    "                    df=df,\n",
    "                    label_list=label_list,\n",
    "                    cmd_params=[\"bprp\", \"abs_G\"], pos_params=[\"ra\", \"dec\", \"scaled_parallax\"],\n",
    "                    vel_params=[\"pmra\", \"pmdec\"])\n",
    "\n",
    "f.write_html(output_path + \"DeNoise_pruned_function_max1cc.html\")"
   ],
   "metadata": {
    "collapsed": false,
    "ExecuteTime": {
     "end_time": "2025-07-30T09:21:46.017109Z",
     "start_time": "2025-07-30T09:21:45.883118Z"
    }
   }
  },
  {
   "cell_type": "code",
   "execution_count": 38,
   "outputs": [],
   "source": [],
   "metadata": {
    "collapsed": false,
    "ExecuteTime": {
     "end_time": "2025-07-30T09:21:46.020684Z",
     "start_time": "2025-07-30T09:21:45.967919Z"
    }
   }
  }
 ],
 "metadata": {
  "kernelspec": {
   "display_name": "Python 3",
   "language": "python",
   "name": "python3"
  },
  "language_info": {
   "codemirror_mode": {
    "name": "ipython",
    "version": 2
   },
   "file_extension": ".py",
   "mimetype": "text/x-python",
   "name": "python",
   "nbconvert_exporter": "python",
   "pygments_lexer": "ipython2",
   "version": "2.7.6"
  }
 },
 "nbformat": 4,
 "nbformat_minor": 0
}
