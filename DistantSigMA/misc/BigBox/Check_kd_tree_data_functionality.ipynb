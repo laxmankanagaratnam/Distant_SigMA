{
 "cells": [
  {
   "cell_type": "code",
   "execution_count": 17,
   "metadata": {
    "collapsed": true,
    "ExecuteTime": {
     "end_time": "2025-05-19T10:03:16.657947Z",
     "start_time": "2025-05-19T10:03:16.655066Z"
    }
   },
   "outputs": [],
   "source": [
    "# Python modules\n",
    "import os\n",
    "import sys\n",
    "import pandas as pd\n",
    "import seaborn as sns\n",
    "import time, datetime\n",
    "\n",
    "# SigMA modules\n",
    "from coordinate_transformations.sky_convert import transform_sphere_to_cartesian\n",
    "\n",
    "#### DistantSigMA modules\n",
    "from DistantSigMA.DistantSigMA.clustering_routine import *\n",
    "from DistantSigMA.DistantSigMA.PlotlyResults import plot\n",
    "from DistantSigMA.DistantSigMA.cluster_simulations import calculate_std_devs\n",
    "from DistantSigMA.DistantSigMA.scalefactor_sampling import lhc_lloyd\n",
    "from DistantSigMA.Analysis.IsochroneArchive.myTools import my_utility\n",
    "\n",
    "\n",
    "# 1.) Paths\n",
    "# ---------------------------------------------------------\n",
    "# set sys and output paths\n",
    "sys.path.append('/Users/alena/PycharmProjects/Sigma_Orion')"
   ]
  },
  {
   "cell_type": "code",
   "execution_count": 18,
   "outputs": [],
   "source": [
    "script_name = my_utility.get_calling_script_name(\"kd_tree_data_test\")\n",
    "output_path = my_utility.set_output_path(main_path='/Users/alena/Library/CloudStorage/OneDrive-Personal/Work/PhD/'\n",
    "                                                   'Projects/Sigma_Orion/Coding/Code_output/', script_name=script_name)\n"
   ],
   "metadata": {
    "collapsed": false,
    "ExecuteTime": {
     "end_time": "2025-05-19T10:03:16.660302Z",
     "start_time": "2025-05-19T10:03:16.657859Z"
    }
   }
  },
  {
   "cell_type": "code",
   "execution_count": 19,
   "outputs": [
    {
     "data": {
      "text/plain": "   label          ra        dec  parallax    distance          X           Y  \\\n0      3  119.534503 -45.289629    2.5518  391.880241 -67.308483 -381.887280   \n1      3  117.478434 -41.361619    2.8974  345.137019 -83.825874 -331.653957   \n2      3  117.383706 -41.167946    2.8569  350.029753 -86.225960 -336.075311   \n3      3  115.778062 -42.446179    2.4887  401.816209 -94.921531 -385.052296   \n4      3  119.258807 -43.488479    2.4041  415.956075 -83.360030 -403.829318   \n\n           Z    v_a_lsr    v_d_lsr  \n0 -56.584425  -9.259812  12.231144  \n1 -45.808709  -7.282962  12.960175  \n2 -46.252531  -8.473165  14.458632  \n3 -64.659868  -9.041788  13.458839  \n4 -54.703236 -10.489070  12.865119  ",
      "text/html": "<div>\n<style scoped>\n    .dataframe tbody tr th:only-of-type {\n        vertical-align: middle;\n    }\n\n    .dataframe tbody tr th {\n        vertical-align: top;\n    }\n\n    .dataframe thead th {\n        text-align: right;\n    }\n</style>\n<table border=\"1\" class=\"dataframe\">\n  <thead>\n    <tr style=\"text-align: right;\">\n      <th></th>\n      <th>label</th>\n      <th>ra</th>\n      <th>dec</th>\n      <th>parallax</th>\n      <th>distance</th>\n      <th>X</th>\n      <th>Y</th>\n      <th>Z</th>\n      <th>v_a_lsr</th>\n      <th>v_d_lsr</th>\n    </tr>\n  </thead>\n  <tbody>\n    <tr>\n      <th>0</th>\n      <td>3</td>\n      <td>119.534503</td>\n      <td>-45.289629</td>\n      <td>2.5518</td>\n      <td>391.880241</td>\n      <td>-67.308483</td>\n      <td>-381.887280</td>\n      <td>-56.584425</td>\n      <td>-9.259812</td>\n      <td>12.231144</td>\n    </tr>\n    <tr>\n      <th>1</th>\n      <td>3</td>\n      <td>117.478434</td>\n      <td>-41.361619</td>\n      <td>2.8974</td>\n      <td>345.137019</td>\n      <td>-83.825874</td>\n      <td>-331.653957</td>\n      <td>-45.808709</td>\n      <td>-7.282962</td>\n      <td>12.960175</td>\n    </tr>\n    <tr>\n      <th>2</th>\n      <td>3</td>\n      <td>117.383706</td>\n      <td>-41.167946</td>\n      <td>2.8569</td>\n      <td>350.029753</td>\n      <td>-86.225960</td>\n      <td>-336.075311</td>\n      <td>-46.252531</td>\n      <td>-8.473165</td>\n      <td>14.458632</td>\n    </tr>\n    <tr>\n      <th>3</th>\n      <td>3</td>\n      <td>115.778062</td>\n      <td>-42.446179</td>\n      <td>2.4887</td>\n      <td>401.816209</td>\n      <td>-94.921531</td>\n      <td>-385.052296</td>\n      <td>-64.659868</td>\n      <td>-9.041788</td>\n      <td>13.458839</td>\n    </tr>\n    <tr>\n      <th>4</th>\n      <td>3</td>\n      <td>119.258807</td>\n      <td>-43.488479</td>\n      <td>2.4041</td>\n      <td>415.956075</td>\n      <td>-83.360030</td>\n      <td>-403.829318</td>\n      <td>-54.703236</td>\n      <td>-10.489070</td>\n      <td>12.865119</td>\n    </tr>\n  </tbody>\n</table>\n</div>"
     },
     "execution_count": 19,
     "metadata": {},
     "output_type": "execute_result"
    }
   ],
   "source": [
    "df = pd.read_csv(\"../../Collab/ISM-FLOW-WS2/Vela_clusters_DR3_preprocessed.csv\", usecols=['ra', 'dec', 'parallax','X', 'Y', 'Z', 'v_a_lsr', 'v_d_lsr', 'label', 'distance'])\n",
    "\n",
    "df.head()"
   ],
   "metadata": {
    "collapsed": false,
    "ExecuteTime": {
     "end_time": "2025-05-19T10:03:16.702632Z",
     "start_time": "2025-05-19T10:03:16.660428Z"
    }
   }
  },
  {
   "cell_type": "code",
   "execution_count": 20,
   "outputs": [],
   "source": [
    "cluster_features = ['X', 'Y', 'Z', 'v_a_lsr', 'v_d_lsr']   # Cols for Galactic Cart. clustering\n",
    "df_far = df[df[\"distance\"] < 500]\n",
    "df_near = df[df[\"distance\"] < 350]\n",
    "# Parameters to vary\n",
    "knn = 100\n",
    "alpha = 0.05\n",
    "bh_correction = True\n",
    "# Fixed parameters that work out quite well\n",
    "beta = 0.99\n",
    "knn_initcluster_graph = 30\n",
    "\n",
    "sigma_kwargs = dict(\n",
    "    cluster_features=cluster_features,  # Columns to cluster on\n",
    "    scale_factors={'vel': {'features': ['v_a_lsr', 'v_d_lsr'], 'factor': 11}},  # Columns that will be scaled\n",
    "    nb_resampling=0,  # Resampling - e.g., important for calculating stability of membership\n",
    "    max_knn_density=knn + 1,  # This need\n",
    "    beta=beta,\n",
    "    knn_initcluster_graph=knn_initcluster_graph,\n",
    ")\n",
    "\n"
   ],
   "metadata": {
    "collapsed": false,
    "ExecuteTime": {
     "end_time": "2025-05-19T10:03:16.706749Z",
     "start_time": "2025-05-19T10:03:16.704179Z"
    }
   }
  },
  {
   "cell_type": "code",
   "execution_count": 21,
   "outputs": [],
   "source": [
    "# Initialize SigMA instance\n",
    "clusterer = SigMA(\n",
    "    data=df_near,\n",
    "    kd_tree_data = df_near,\n",
    "    **sigma_kwargs\n",
    ")"
   ],
   "metadata": {
    "collapsed": false,
    "ExecuteTime": {
     "end_time": "2025-05-19T10:03:16.827278Z",
     "start_time": "2025-05-19T10:03:16.708754Z"
    }
   }
  },
  {
   "cell_type": "code",
   "execution_count": 22,
   "outputs": [
    {
     "name": "stdout",
     "output_type": "stream",
     "text": [
      "Start clustering...\n",
      "Performing gradient ascend using a 100-NN density estimation.\n",
      "Updated significance threshold: 2.86e-02\n",
      "Done! [took 0:00:00]. Found 7 clusters\n"
     ]
    }
   ],
   "source": [
    "# Fit\n",
    "st = time.time()\n",
    "print('Start clustering...')\n",
    "clusterer.fit(alpha=alpha, knn=knn, bh_correction=True)\n",
    "labels= clusterer.labels_\n",
    "\n",
    "delta_t = str(datetime.timedelta(seconds=time.time() - st)).split('.')[0]\n",
    "print(f'Done! [took {delta_t}]. Found {np.unique(labels).size} clusters')\n",
    "\n",
    "# Save point-wise density\n",
    "rho = clusterer.weights_"
   ],
   "metadata": {
    "collapsed": false,
    "ExecuteTime": {
     "end_time": "2025-05-19T10:03:16.841138Z",
     "start_time": "2025-05-19T10:03:16.828177Z"
    }
   }
  },
  {
   "cell_type": "code",
   "execution_count": 23,
   "outputs": [
    {
     "name": "stdout",
     "output_type": "stream",
     "text": [
      "(3189,)\n"
     ]
    },
    {
     "name": "stderr",
     "output_type": "stream",
     "text": [
      "/var/folders/z6/y4rdkpdx3vlbwtmngx04x_1w0000gp/T/ipykernel_1721/1452144583.py:4: SettingWithCopyWarning:\n",
      "\n",
      "\n",
      "A value is trying to be set on a copy of a slice from a DataFrame.\n",
      "Try using .loc[row_indexer,col_indexer] = value instead\n",
      "\n",
      "See the caveats in the documentation: https://pandas.pydata.org/pandas-docs/stable/user_guide/indexing.html#returning-a-view-versus-a-copy\n",
      "\n"
     ]
    }
   ],
   "source": [
    "ln = LabelEncoder().fit_transform(labels)  # Sets labels to 0-(N-1)\n",
    "print(ln.shape)\n",
    "\n",
    "df_near[\"SigMA_label\"] =ln"
   ],
   "metadata": {
    "collapsed": false,
    "ExecuteTime": {
     "end_time": "2025-05-19T10:03:16.844365Z",
     "start_time": "2025-05-19T10:03:16.841700Z"
    }
   }
  },
  {
   "cell_type": "code",
   "execution_count": 24,
   "outputs": [],
   "source": [
    "plot(labels=ln, df=df_near, filename=\"VelaNear_same_kdtree_data\", output_pathname=output_path)\n"
   ],
   "metadata": {
    "collapsed": false,
    "ExecuteTime": {
     "end_time": "2025-05-19T10:03:16.884329Z",
     "start_time": "2025-05-19T10:03:16.845112Z"
    }
   }
  }
 ],
 "metadata": {
  "kernelspec": {
   "display_name": "Python 3",
   "language": "python",
   "name": "python3"
  },
  "language_info": {
   "codemirror_mode": {
    "name": "ipython",
    "version": 2
   },
   "file_extension": ".py",
   "mimetype": "text/x-python",
   "name": "python",
   "nbconvert_exporter": "python",
   "pygments_lexer": "ipython2",
   "version": "2.7.6"
  }
 },
 "nbformat": 4,
 "nbformat_minor": 0
}
